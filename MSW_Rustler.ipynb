{
  "nbformat": 4,
  "nbformat_minor": 0,
  "metadata": {
    "colab": {
      "name": "MSW_Rustler.ipynb",
      "provenance": []
    },
    "kernelspec": {
      "name": "python3",
      "display_name": "Python 3"
    },
    "language_info": {
      "name": "python"
    }
  },
  "cells": [
    {
      "cell_type": "markdown",
      "source": [
        "1)knihovny a moduly"
      ],
      "metadata": {
        "id": "dERVh53qiZJH"
      }
    },
    {
      "cell_type": "markdown",
      "source": [
        "Skalární součin"
      ],
      "metadata": {
        "id": "BW0E7ZP7UeAr"
      }
    },
    {
      "cell_type": "code",
      "source": [
        "import numpy as np\n",
        "import time\n",
        "from sympy import Symbol,solve\n",
        "from scipy import linalg\n",
        "\n",
        "def sk(u,v):\n",
        "\n",
        "  t0=time.time()\n",
        "  s=0\n",
        "  if len(u)==len(v):\n",
        "    for i in range(len(u)):\n",
        "      s+= u[i]*v[i]\n",
        "    return s,time.time()-t0\n",
        "  else:\n",
        "    return \"Vektory musí být stejně velké.\"\n",
        "    \n",
        "print(sk([1,2,3],[4,5,6]))\n",
        "\n",
        "def sk2(u,v):\n",
        "\n",
        "  t0=time.time()\n",
        "  return np.dot(u,v),time.time()-t0\n",
        "\n",
        "print(sk2(np.array([1,2,3]),np.array([4,5,6])))"
      ],
      "metadata": {
        "colab": {
          "base_uri": "https://localhost:8080/"
        },
        "id": "6n7iwSTqigFD",
        "outputId": "44293b81-7cc0-43fa-d931-11c698bbd070"
      },
      "execution_count": 5,
      "outputs": [
        {
          "output_type": "stream",
          "name": "stdout",
          "text": [
            "(32, 3.337860107421875e-06)\n",
            "(32, 3.075599670410156e-05)\n"
          ]
        }
      ]
    },
    {
      "cell_type": "markdown",
      "source": [
        "Násobení matice"
      ],
      "metadata": {
        "id": "OF54zKhDkILS"
      }
    },
    {
      "cell_type": "code",
      "source": [
        "def nasob(a,b):\n",
        "\n",
        "  t0=time.time()\n",
        "  c=[[0]*len(b[0])]*len(a)\n",
        "  for i in range(len(a)):\n",
        "    for j in range(len(b[0])):\n",
        "      c[i][j]=sum([a[i][x]*b[x][j] for x in range(len(b[0]))])\n",
        "  return c,time.time()-t0\n",
        "  \n",
        "\n",
        "def nasob2(a,b):\n",
        "\n",
        "  t0=time.time()\n",
        "  return np.matmul(a,b),time.time()-t0\n",
        "  \n",
        "print(nasob([[1,2,3],[1,2,3]],[[1,2,3],[1,2,3],[1,2,3]]))\n",
        "print(nasob2(np.array([[1,2,3],[1,2,3]]),np.array([[1,2,3],[1,2,3],[1,2,3]])))"
      ],
      "metadata": {
        "colab": {
          "base_uri": "https://localhost:8080/"
        },
        "id": "mZvkS9nnkVoa",
        "outputId": "49650883-4d2b-487a-adca-d403565de00c"
      },
      "execution_count": 11,
      "outputs": [
        {
          "output_type": "stream",
          "name": "stdout",
          "text": [
            "([[6, 12, 18], [6, 12, 18]], 2.0503997802734375e-05)\n",
            "(array([[ 6, 12, 18],\n",
            "       [ 6, 12, 18]]), 2.4557113647460938e-05)\n"
          ]
        }
      ]
    },
    {
      "cell_type": "markdown",
      "source": [
        "řešení homogenní kvadratické rovnice\n"
      ],
      "metadata": {
        "id": "4LtFsX0jlFcf"
      }
    },
    {
      "cell_type": "code",
      "source": [
        "x=Symbol(\"x\")\n",
        "\n",
        "def kvrov(kpolynom):\n",
        "\n",
        "  t0=time.time()\n",
        "  abc=[]\n",
        "  \n",
        "  for a,clen in enumerate(kpolynom):\n",
        "    \n",
        "    if clen not in [\" \",\"x\",\"*\",\"+\",\"-\",\"^\"] and kpolynom[a-1] not in[\"*\",\"^\"]:\n",
        "      abc.append(int(clen))\n",
        "  \n",
        "  if len(abc)==2:\n",
        "    abc.reverse()\n",
        "    abc.append(1)\n",
        "    abc.reverse()\n",
        "    \n",
        "  D=(abc[1]**2)-(4*abc[0]*abc[2]) \n",
        "\n",
        "  if D>=0:\n",
        "    return (-abc[1]+(D)**(1/2))/(2*abc[0]),(-abc[1]-(D)**(1/2))/(2*abc[0]),(time.time()-t0)\n",
        "  else:\n",
        "    return str(-abc[1])+\"+\"+str((-D)**(1/2))+\"i/\"+str(2*abc[0]),(time.time()-t0)\n",
        "\n",
        "print(kvrov(\"x**2+3*x+2\"))\n",
        "\n",
        "def kvrov2(kpolynom):\n",
        "\n",
        "  t0=time.time()\n",
        "  return solve(kpolynom,x),(time.time()-t0)\n",
        "\n",
        "print(kvrov2(x**2+3*x+2))"
      ],
      "metadata": {
        "colab": {
          "base_uri": "https://localhost:8080/"
        },
        "id": "ixWbBYPalXbM",
        "outputId": "0e404fca-563c-467e-c438-9f8144aaf81d"
      },
      "execution_count": 13,
      "outputs": [
        {
          "output_type": "stream",
          "name": "stdout",
          "text": [
            "(-1.0, -2.0, 1.71661376953125e-05)\n",
            "([-2, -1], 0.013109445571899414)\n"
          ]
        }
      ]
    },
    {
      "cell_type": "markdown",
      "source": [
        "Součet matic"
      ],
      "metadata": {
        "id": "30_Yk1vLmvbk"
      }
    },
    {
      "cell_type": "code",
      "source": [
        "def soucetmatic(a,b):\n",
        "  \n",
        "  t0=time.time()\n",
        "  c=[[0]*len(a[0])]*len(a)\n",
        "  if len(a)==len(b) and len(a[0])==len(b[0]):\n",
        "    for i in range(len(a)):\n",
        "      for j in range(len(a[0])):\n",
        "        c[i][j]=a[i][j]+b[i][j]\n",
        "\n",
        "  return c,(time.time()-t0)\n",
        "\n",
        "def soucetmatic2(a,b):\n",
        "\n",
        "  t0=time.time()\n",
        "  return a+b,(time.time()-t0)\n",
        "\n",
        "print(soucetmatic([[1,2,3],[1,2,3],[1,2,3]],[[1,2,3],[1,2,3],[1,2,3]]))\n",
        "print(soucetmatic2(np.array([[1,2,3],[1,2,3],[1,2,3]]),np.array([[1,2,3],[1,2,3],[1,2,3]])))"
      ],
      "metadata": {
        "colab": {
          "base_uri": "https://localhost:8080/"
        },
        "id": "3-I-8MvQmymq",
        "outputId": "3ea4c742-1d30-4e02-996a-0afbf31018bc"
      },
      "execution_count": 15,
      "outputs": [
        {
          "output_type": "stream",
          "name": "stdout",
          "text": [
            "([[2, 4, 6], [2, 4, 6], [2, 4, 6]], 1.049041748046875e-05)\n",
            "(array([[2, 4, 6],\n",
            "       [2, 4, 6],\n",
            "       [2, 4, 6]]), 1.9073486328125e-05)\n"
          ]
        }
      ]
    },
    {
      "cell_type": "markdown",
      "source": [
        "Determinant 2x2"
      ],
      "metadata": {
        "id": "dq383hSFnNFa"
      }
    },
    {
      "cell_type": "code",
      "source": [
        "def detr(a):\n",
        "\n",
        "  t0=time.time()\n",
        "  return a[0][0]*a[1][1]-a[0][1]*a[1][0],(time.time()-t0)\n",
        "\n",
        "def detr2(a):\n",
        "\n",
        "  t0=time.time()\n",
        "  return linalg.det(a),(time.time()-t0)\n",
        "\n",
        "print(detr([[1,2],[3,4]]))\n",
        "print(detr2(np.array([[1,2],[3,4]])))"
      ],
      "metadata": {
        "colab": {
          "base_uri": "https://localhost:8080/"
        },
        "id": "jL1-4v_SnUIe",
        "outputId": "62081250-d989-4c75-8160-43960ba5caf0"
      },
      "execution_count": 17,
      "outputs": [
        {
          "output_type": "stream",
          "name": "stdout",
          "text": [
            "(-2, 1.9073486328125e-06)\n",
            "(-2.0, 9.107589721679688e-05)\n"
          ]
        }
      ]
    },
    {
      "cell_type": "markdown",
      "source": [
        "3) lineární algebra"
      ],
      "metadata": {
        "id": "DyzHFoZsUUsT"
      }
    },
    {
      "cell_type": "code",
      "source": [
        "import numpy as np\n",
        "import matplotlib.pyplot as plt\n",
        "import time\n",
        "\n",
        "def jacobi(M, b, n):\n",
        "\n",
        "    x=np.ones(len(M))\n",
        "    D = np.diag(M)\n",
        "    L = np.tril(M, k = -1)\n",
        "    U = np.triu(M, k = 1)\n",
        "    for i in range(n):\n",
        "        x = (b - np.matmul((L + U),x))/D\n",
        "    \n",
        "    return x\n",
        "\n",
        "x1=[i for i in range(2,101)]\n",
        "x2=[i for i in range(2,101)]\n",
        "y1=[]\n",
        "y2=[]\n",
        "for i in range(2,101):\n",
        "  M=np.random.randint(1,100,size=(i,i))\n",
        "  b=np.random.randint(1,100,size=(i))\n",
        "  t0=time.time()\n",
        "  x=np.linalg.solve(M,b)\n",
        "  t=time.time()-t0\n",
        "  y1.append(t)\n",
        "  t0=time.time()\n",
        "  jacobi(M, b, 10)\n",
        "  y2.append(time.time()-t0)\n",
        "\n",
        "plt.plot(x1,y1)\n",
        "plt.plot(x2,y2)"
      ],
      "metadata": {
        "colab": {
          "base_uri": "https://localhost:8080/",
          "height": 282
        },
        "id": "FnR_FH5sn1xS",
        "outputId": "b0b1279b-36cf-4eb6-beb1-cf6e86e9ba0c"
      },
      "execution_count": 18,
      "outputs": [
        {
          "output_type": "execute_result",
          "data": {
            "text/plain": [
              "[<matplotlib.lines.Line2D at 0x7fc0e2de5d10>]"
            ]
          },
          "metadata": {},
          "execution_count": 18
        },
        {
          "output_type": "display_data",
          "data": {
            "text/plain": [
              "<Figure size 432x288 with 1 Axes>"
            ],
            "image/png": "[encoded data removed]"
          },
          "metadata": {
            "needs_background": "light"
          }
        }
      ]
    },
    {
      "cell_type": "markdown",
      "source": [
        "5) hledání kořenů"
      ],
      "metadata": {
        "id": "2sndn1JsUNcw"
      }
    },
    {
      "cell_type": "code",
      "source": [
        "import math\n",
        "from scipy import optimize\n",
        "\n",
        "def fce1(x):\n",
        "  \n",
        "  return x**3 + x**2 - 2\n",
        "\n",
        "def fce2(x):\n",
        "\n",
        "  return math.e**(x-1) - 1\n",
        "\n",
        "def fce3(x):\n",
        "\n",
        "  return 6*math.sin(3*x)\n",
        "\n",
        "def bisekce(f,a,b,k):\n",
        "\n",
        "  t0=time.time()\n",
        "  for i in range(k):\n",
        "    c=(a+b)/2\n",
        "    if (f(a)*f(c))>0:\n",
        "      a=c\n",
        "    else:\n",
        "      b=c\n",
        "  return c,(time.time()-t0)\n",
        "\n",
        "A=0\n",
        "B=5\n",
        "\n",
        "print(bisekce(fce1,a,b,15))\n",
        "print(bisekce(fce2,a,b,15))\n",
        "print(bisekce(fce3,a,b,15))\n",
        "\n",
        "def scipy_newton(f,a,b):\n",
        "\n",
        "  t0=time.time()\n",
        "\n",
        "  return optimize.newton(f,(a+b)/2),time.time()-t0\n",
        "\n",
        "print(scipy_newton(fce1,a,b))\n",
        "print(scipy_newton(fce2,a,b))\n",
        "print(scipy_newton(fce3,a,b))\n"
      ],
      "metadata": {
        "colab": {
          "base_uri": "https://localhost:8080/"
        },
        "id": "bm-4rEtYn_UK",
        "outputId": "8fbe4e52-9e4e-455f-bdc3-78a4fbe1eb3c"
      },
      "execution_count": 21,
      "outputs": [
        {
          "output_type": "stream",
          "name": "stdout",
          "text": [
            "(0.999908447265625, 3.743171691894531e-05)\n",
            "(0.999908447265625, 2.7179718017578125e-05)\n",
            "(0.000152587890625, 2.2172927856445312e-05)\n",
            "(1.0, 0.0006885528564453125)\n",
            "(1.00000000000004, 0.0005383491516113281)\n",
            "(2.0943951023931957, 0.00040078163146972656)\n"
          ]
        }
      ]
    },
    {
      "cell_type": "markdown",
      "source": [
        "9) integrály"
      ],
      "metadata": {
        "id": "0BnOXyscUH-6"
      }
    },
    {
      "cell_type": "code",
      "source": [
        "from scipy import integrate\n",
        "import math\n",
        "\n",
        "def fce1(x):\n",
        "\n",
        "  return (x**3 + x**2 - 2)/2\n",
        "\n",
        "def fce2(x):\n",
        "\n",
        "  return math.e**(x**2) - 1\n",
        "def fce3(x):\n",
        "\n",
        "  return 6*math.sin(3*x+2)\n",
        "\n",
        "def rie_int(fce,a,b,dx):\n",
        "\n",
        "  t0=time.time()\n",
        "  vysledek=0\n",
        "  while a<5:\n",
        "    vysledek += dx * (fce(a) + fce(a+dx))/2\n",
        "    a += dx\n",
        "  return vysledek,(time.time()-t0)\n",
        "\n",
        "print(rie_int(fce1,0,5,1/100000))\n",
        "print(rie_int(fce2,0,5,1/100000))\n",
        "print(rie_int(fce3,0,5,1/100000))\n",
        "\n",
        "def scipy_romberg(f,a,b):\n",
        "\n",
        "  t0=time.time()\n",
        "  return integrate.romberg(f, a, b), (time.time()-t0)\n",
        "\n",
        "print(scipy_romberg(fce1,0,5))\n",
        "print(scipy_romberg(fce2,0,5))\n",
        "print(scipy_romberg(fce3,0,5))"
      ],
      "metadata": {
        "colab": {
          "base_uri": "https://localhost:8080/"
        },
        "id": "FctPLzNbpDYJ",
        "outputId": "b5060183-6145-4aad-d722-c3118d249b8c"
      },
      "execution_count": 22,
      "outputs": [
        {
          "output_type": "stream",
          "name": "stdout",
          "text": [
            "(93.95907333615929, 0.7342731952667236)\n",
            "(7354873832.664578, 0.6707360744476318)\n",
            "(-0.2820246809333154, 0.6777520179748535)\n",
            "(93.95833333333333, 0.0003046989440917969)\n",
            "(7354153742.83951, 0.0015337467193603516)\n",
            "(-0.2819669969910903, 0.0009415149688720703)\n"
          ]
        }
      ]
    },
    {
      "cell_type": "markdown",
      "source": [
        "7)Monte Carlo\n",
        "vězňovo dilema"
      ],
      "metadata": {
        "id": "EpA4UNnIUBlP"
      }
    },
    {
      "cell_type": "code",
      "source": [
        "from random import choice\n",
        "import matplotlib.pyplot as plt\n",
        "\n",
        "def veznovo_dilema(n_iteraci):\n",
        "\n",
        "  udat_roky_ve_vezeni1=[]\n",
        "  udat_soucet_let1=0\n",
        "  udat_prumerny_pocet_let1=[]\n",
        "  udat_roky_ve_vezeni2=[]\n",
        "  udat_soucet_let2=0\n",
        "  udat_prumerny_pocet_let2=[]\n",
        "  mlcet_roky_ve_vezeni1=[]\n",
        "  mlcet_soucet_let1=0\n",
        "  mlcet_prumerny_pocet_let1=[]\n",
        "  mlcet_roky_ve_vezeni2=[]\n",
        "  mlcet_soucet_let2=0\n",
        "  mlcet_prumerny_pocet_let2=[]\n",
        "\n",
        "  for i in range(n_iteraci):\n",
        "    moznosti=[\"udat\",\"mlcet\"]\n",
        "    volba1=choice(moznosti)\n",
        "    volba2=choice(moznosti)\n",
        "\n",
        "    if volba1==\"udat\":\n",
        "      \n",
        "      if volba2==\"udat\":\n",
        "        udat_roky_ve_vezeni1.append(2)\n",
        "        udat_roky_ve_vezeni2.append(2)\n",
        "        udat_soucet_let1 +=2\n",
        "        udat_soucet_let2 +=2\n",
        "        udat_prumerny_pocet_let1.append(udat_soucet_let1/len(udat_roky_ve_vezeni1))\n",
        "        udat_prumerny_pocet_let2.append(udat_soucet_let2/len(udat_roky_ve_vezeni2))\n",
        "     \n",
        "      elif volba2==\"mlcet\":\n",
        "        udat_roky_ve_vezeni1.append(0)\n",
        "        mlcet_roky_ve_vezeni2.append(3)\n",
        "        mlcet_soucet_let2 +=3\n",
        "        udat_prumerny_pocet_let1.append(udat_soucet_let1/len(udat_roky_ve_vezeni1))\n",
        "        mlcet_prumerny_pocet_let2.append(mlcet_soucet_let2/len(mlcet_roky_ve_vezeni2))\n",
        "   \n",
        "    elif volba1==\"mlcet\":\n",
        "      \n",
        "      if volba2==\"mlcet\":\n",
        "        mlcet_roky_ve_vezeni1.append(1)\n",
        "        mlcet_roky_ve_vezeni2.append(1)\n",
        "        mlcet_soucet_let1 +=1\n",
        "        mlcet_soucet_let2 +=1\n",
        "        mlcet_prumerny_pocet_let1.append(mlcet_soucet_let1/len(mlcet_roky_ve_vezeni1))\n",
        "        mlcet_prumerny_pocet_let2.append(mlcet_soucet_let2/len(mlcet_roky_ve_vezeni2))\n",
        "     \n",
        "      elif volba2==\"udat\":\n",
        "        mlcet_roky_ve_vezeni1.append(3)\n",
        "        udat_roky_ve_vezeni2.append(0)\n",
        "        mlcet_soucet_let1 +=3\n",
        "        mlcet_prumerny_pocet_let1.append(mlcet_soucet_let1/len(mlcet_roky_ve_vezeni1))\n",
        "        udat_prumerny_pocet_let2.append(udat_soucet_let2/len(udat_roky_ve_vezeni2))\n",
        "\n",
        "  plt.plot(udat_prumerny_pocet_let1,\"b\",label=\"udat1\")\n",
        "  plt.plot(mlcet_prumerny_pocet_let1,\"r\",label=\"mlcet1\")\n",
        "  plt.legend()\n",
        "  plt.show()\n",
        "  print(\"průměr udat: \"+str(udat_prumerny_pocet_let1[-1]))\n",
        "  print(\"průměr mlčet: \"+str(mlcet_prumerny_pocet_let1[-1]))\n",
        "  plt.plot(udat_prumerny_pocet_let2,\"b\",label=\"udat2\")\n",
        "  plt.plot(mlcet_prumerny_pocet_let2,\"r\",label=\"mlcet2\")\n",
        "  plt.legend()\n",
        "  plt.show()\n",
        "  print(\"průměr udat: \"+str(udat_prumerny_pocet_let2[-1]))\n",
        "  print(\"průměr mlčet: \"+str(mlcet_prumerny_pocet_let2[-1]))\n",
        "veznovo_dilema(500)\n",
        "\n",
        "\n",
        "\n",
        "        \n",
        "\n"
      ],
      "metadata": {
        "colab": {
          "base_uri": "https://localhost:8080/",
          "height": 582
        },
        "id": "aMnMxnNMHr30",
        "outputId": "8524080c-27d7-4213-f875-e8aab2038990"
      },
      "execution_count": 15,
      "outputs": [
        {
          "output_type": "display_data",
          "data": {
            "text/plain": [
              "<Figure size 432x288 with 1 Axes>"
            ],
            "image/png": "[encoded data removed]"
          },
          "metadata": {
            "needs_background": "light"
          }
        },
        {
          "output_type": "stream",
          "name": "stdout",
          "text": [
            "průměr udat: 0.9377593360995851\n",
            "průměr mlčet: 2.0193050193050195\n"
          ]
        },
        {
          "output_type": "display_data",
          "data": {
            "text/plain": [
              "<Figure size 432x288 with 1 Axes>"
            ],
            "image/png": "[encoded data removed]"
          },
          "metadata": {
            "needs_background": "light"
          }
        },
        {
          "output_type": "stream",
          "name": "stdout",
          "text": [
            "průměr udat: 0.9224489795918367\n",
            "průměr mlčet: 2.003921568627451\n"
          ]
        }
      ]
    }
  ]
}